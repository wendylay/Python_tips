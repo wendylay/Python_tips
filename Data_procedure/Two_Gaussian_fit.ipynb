{
 "cells": [
  {
   "cell_type": "code",
   "execution_count": 12,
   "metadata": {},
   "outputs": [],
   "source": [
    "import numpy as np\n",
    "# the pylab combine the pyplot and numpy, which can calculate with numpy and plot with pyplot\n",
    "from pylab import plot, legend, concatenate, normal, hist, exp, sqrt, diag\n",
    "from scipy.optimize import curve_fit\n",
    "import scipy.io as sio\n",
    "\n",
    "# https://www.coder.work/article/347314"
   ]
  },
  {
   "cell_type": "code",
   "execution_count": 16,
   "metadata": {},
   "outputs": [
    {
     "name": "stdout",
     "output_type": "stream",
     "text": [
      "[ 6.52016914e-01  1.87826767e-01  5.82783965e+04 -2.84779772e+00\n",
      " -3.52154091e+00  4.16815542e+03] \n",
      " [1.70569325e-02 1.19624290e-02 2.79052866e+03 3.67942387e-01\n",
      " 3.77078597e-01 3.15435956e+02]\n"
     ]
    },
    {
     "data": {
      "image/png": "[encoded data removed]",
      "text/plain": [
       "<Figure size 432x288 with 1 Axes>"
      ]
     },
     "metadata": {
      "needs_background": "light"
     },
     "output_type": "display_data"
    }
   ],
   "source": [
    "\n",
    "\n",
    "data = sio.loadmat(r'D:\\OneDrive - stu.xmu.edu.cn\\4 Code\\1 M File\\Shallow_bathymetry_global\\Data\\Match_CZI_IS2\\test.mat')\n",
    "data = np.array(data['H'])\n",
    "\n",
    "# data=concatenate((normal(1,.2,5000),normal(2,.2,2500)))\n",
    "y,x,_=hist(data,100,alpha=.3,label='data')\n",
    "\n",
    "\n",
    "x=(x[1:]+x[:-1])/2 # for len(x)==len(y)\n",
    "\n",
    "def gauss(x,mu,sigma,A):\n",
    "    return A*exp(-(x-mu)**2/2/sigma**2)\n",
    "\n",
    "def bimodal(x,mu1,sigma1,A1,mu2,sigma2,A2):\n",
    "    return gauss(x,mu1,sigma1,A1)+gauss(x,mu2,sigma2,A2)\n",
    "\n",
    "expected = (1,.2,250,2,.2,125) # init parameter value\n",
    "params,cov = curve_fit(bimodal,x,y,expected)\n",
    "sigma = sqrt(diag(cov))\n",
    "plot(x,bimodal(x,*params),color='red',lw=1,label='model')\n",
    "legend()\n",
    "print(params,'\\n',sigma) "
   ]
  }
 ],
 "metadata": {
  "interpreter": {
   "hash": "68d7e64a8ef1e11c6d28b945075670502b4996810cedadb5f7222a36b8861f26"
  },
  "kernelspec": {
   "display_name": "Python 3.8.10 64-bit ('base': conda)",
   "language": "python",
   "name": "python3"
  },
  "language_info": {
   "codemirror_mode": {
    "name": "ipython",
    "version": 3
   },
   "file_extension": ".py",
   "mimetype": "text/x-python",
   "name": "python",
   "nbconvert_exporter": "python",
   "pygments_lexer": "ipython3",
   "version": "3.8.10"
  },
  "orig_nbformat": 4
 },
 "nbformat": 4,
 "nbformat_minor": 2
}
