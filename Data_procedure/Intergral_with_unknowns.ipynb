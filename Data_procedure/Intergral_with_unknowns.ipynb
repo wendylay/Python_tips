{
 "cells": [
  {
   "cell_type": "code",
   "execution_count": 55,
   "metadata": {},
   "outputs": [],
   "source": [
    "from scipy import integrate\n",
    "import numpy as np\n",
    "import matplotlib.pyplot as plt"
   ]
  },
  {
   "cell_type": "code",
   "execution_count": 61,
   "metadata": {},
   "outputs": [],
   "source": [
    "def Func_PP(Ek, PAR, kd, DL):\n",
    "    c3 = 68\n",
    "    Pmax = 1000\n",
    "    iPARnoon = np.pi * PAR / 0.0072\n",
    "\n",
    "    zmin = lambda t: (-1/kd) * np.log(Ek * np.arctan(0.01/Pmax) / (iPARnoon * np.sin(np.pi/DL*t)))\n",
    "    zmax = 0\n",
    "    tmin = 0\n",
    "    tmax = DL\n",
    "    funx = lambda t, z: np.tanh(iPARnoon*np.sin(np.pi/DL*t)*np.exp(-kd*z) / Ek)\n",
    "    val, error = integrate.dblquad(funx, tmin, tmax, zmin, zmax)\n",
    "    v = abs(1/DL * val - c3*(np.tanh(Ek-10)/50))\n",
    "    return v"
   ]
  },
  {
   "cell_type": "code",
   "execution_count": null,
   "metadata": {},
   "outputs": [],
   "source": []
  },
  {
   "cell_type": "code",
   "execution_count": 60,
   "metadata": {},
   "outputs": [
    {
     "name": "stderr",
     "output_type": "stream",
     "text": [
      "D:\\software\\Anaconda3\\lib\\site-packages\\scipy\\integrate\\quadpack.py:879: IntegrationWarning: The maximum number of subdivisions (50) has been achieved.\n",
      "  If increasing the limit yields no improvement it is advised to analyze \n",
      "  the integrand in order to determine the difficulties.  If the position of a \n",
      "  local difficulty can be determined (singularity, discontinuity) one will \n",
      "  probably gain from splitting up the interval and calling the integrator \n",
      "  on the subranges.  Perhaps a special-purpose integrator should be used.\n",
      "  quad_r = quad(f, low, high, args=args, full_output=self.full_output,\n"
     ]
    },
    {
     "data": {
      "text/plain": [
       "1.9057090855255319"
      ]
     },
     "execution_count": 60,
     "metadata": {},
     "output_type": "execute_result"
    }
   ],
   "source": [
    "Func_PP(500, PAR, kd, DL)"
   ]
  },
  {
   "cell_type": "code",
   "execution_count": 62,
   "metadata": {},
   "outputs": [
    {
     "name": "stderr",
     "output_type": "stream",
     "text": [
      "D:\\software\\Anaconda3\\lib\\site-packages\\scipy\\integrate\\quadpack.py:879: IntegrationWarning: The integral is probably divergent, or slowly convergent.\n",
      "  quad_r = quad(f, low, high, args=args, full_output=self.full_output,\n"
     ]
    }
   ],
   "source": [
    "PAR = 0.2\n",
    "kd = 0.025\n",
    "DL = 12\n",
    "Ek_list = []\n",
    "for Ek in range(1, 450, 50):\n",
    "    Ek_list.append(Func_PP(Ek, PAR, kd, DL))\n"
   ]
  },
  {
   "cell_type": "code",
   "execution_count": 63,
   "metadata": {},
   "outputs": [
    {
     "name": "stdout",
     "output_type": "stream",
     "text": [
      "[1, 51, 101, 151, 201, 251, 301, 351, 401, 451]\n"
     ]
    }
   ],
   "source": [
    "print(list(range(1, 500, 1)))"
   ]
  },
  {
   "cell_type": "code",
   "execution_count": 64,
   "metadata": {},
   "outputs": [
    {
     "data": {
      "text/plain": [
       "[<matplotlib.lines.Line2D at 0x187943cb400>]"
      ]
     },
     "execution_count": 64,
     "metadata": {},
     "output_type": "execute_result"
    },
    {
     "data": {
      "image/png": "[encoded data removed]",
      "text/plain": [
       "<Figure size 432x288 with 1 Axes>"
      ]
     },
     "metadata": {
      "needs_background": "light"
     },
     "output_type": "display_data"
    }
   ],
   "source": [
    "plt.plot(Ek_list)"
   ]
  },
  {
   "cell_type": "code",
   "execution_count": 1,
   "metadata": {},
   "outputs": [
    {
     "name": "stdout",
     "output_type": "stream",
     "text": [
      "1.125\n"
     ]
    }
   ],
   "source": [
    "from scipy import integrate\n",
    "import numpy as np\n",
    "def f(x, y):\n",
    "    return x * y\n",
    "def h(x):\n",
    "    return x\n",
    "v, err = integrate.dblquad(f, 1, 2, lambda x: 1, h)\n",
    "print(v)"
   ]
  }
 ],
 "metadata": {
  "interpreter": {
   "hash": "68d7e64a8ef1e11c6d28b945075670502b4996810cedadb5f7222a36b8861f26"
  },
  "kernelspec": {
   "display_name": "Python 3.8.10 64-bit ('base': conda)",
   "language": "python",
   "name": "python3"
  },
  "language_info": {
   "codemirror_mode": {
    "name": "ipython",
    "version": 3
   },
   "file_extension": ".py",
   "mimetype": "text/x-python",
   "name": "python",
   "nbconvert_exporter": "python",
   "pygments_lexer": "ipython3",
   "version": "3.8.10"
  },
  "orig_nbformat": 4
 },
 "nbformat": 4,
 "nbformat_minor": 2
}
